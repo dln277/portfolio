{
  "nbformat": 4,
  "nbformat_minor": 0,
  "metadata": {
    "colab": {
      "name": "Flu Shot Learning: Predict H1N1 and Seasonal Flu Vaccines",
      "provenance": [],
      "include_colab_link": true
    },
    "kernelspec": {
      "display_name": "Python 3",
      "name": "python3"
    },
    "accelerator": "GPU"
  },
  "cells": [
    {
      "cell_type": "markdown",
      "metadata": {
        "id": "view-in-github",
        "colab_type": "text"
      },
      "source": [
        "<a href=\"https://colab.research.google.com/github/dln277/portfolio/blob/main/Flu_Shot_Learning_Predict_H1N1_and_Seasonal_Flu_Vaccines.ipynb\" target=\"_parent\"><img src=\"https://colab.research.google.com/assets/colab-badge.svg\" alt=\"Open In Colab\"/></a>"
      ]
    },
    {
      "cell_type": "markdown",
      "metadata": {
        "id": "OM1ZPZOvu_fo"
      },
      "source": [
        "**Objective**: To predict how likely individuals are to receive their H1N1 and seasonal flu vaccines. Specifically, you'll be predicting two probabilities: one for h1n1_vaccine and one for seasonal_vaccine.\n",
        "\n"
      ]
    },
    {
      "cell_type": "markdown",
      "metadata": {
        "id": "qN4XJtLzyy5Z"
      },
      "source": [
        "**1. Gather Data**"
      ]
    },
    {
      "cell_type": "code",
      "metadata": {
        "id": "3kyBUBw_ohzp"
      },
      "source": [
        "#Load data and join dataframes \n",
        "\n",
        "import numpy as np\n",
        "import pandas as pd \n",
        "\n",
        "X_train = pd.read_csv('training_set_features.csv')\n",
        "y_train = pd.read_csv('training_set_labels.csv')\n",
        "X_test = pd.read_csv('test_set_features.csv')"
      ],
      "execution_count": 36,
      "outputs": []
    },
    {
      "cell_type": "code",
      "metadata": {
        "colab": {
          "base_uri": "https://localhost:8080/"
        },
        "id": "RAJ5Ob1486yl",
        "outputId": "4d2351ac-e1c9-4928-f191-1465335a0931"
      },
      "source": [
        "X_train.info()"
      ],
      "execution_count": 37,
      "outputs": [
        {
          "output_type": "stream",
          "text": [
            "<class 'pandas.core.frame.DataFrame'>\n",
            "RangeIndex: 26707 entries, 0 to 26706\n",
            "Data columns (total 36 columns):\n",
            " #   Column                       Non-Null Count  Dtype  \n",
            "---  ------                       --------------  -----  \n",
            " 0   respondent_id                26707 non-null  int64  \n",
            " 1   h1n1_concern                 26615 non-null  float64\n",
            " 2   h1n1_knowledge               26591 non-null  float64\n",
            " 3   behavioral_antiviral_meds    26636 non-null  float64\n",
            " 4   behavioral_avoidance         26499 non-null  float64\n",
            " 5   behavioral_face_mask         26688 non-null  float64\n",
            " 6   behavioral_wash_hands        26665 non-null  float64\n",
            " 7   behavioral_large_gatherings  26620 non-null  float64\n",
            " 8   behavioral_outside_home      26625 non-null  float64\n",
            " 9   behavioral_touch_face        26579 non-null  float64\n",
            " 10  doctor_recc_h1n1             24547 non-null  float64\n",
            " 11  doctor_recc_seasonal         24547 non-null  float64\n",
            " 12  chronic_med_condition        25736 non-null  float64\n",
            " 13  child_under_6_months         25887 non-null  float64\n",
            " 14  health_worker                25903 non-null  float64\n",
            " 15  health_insurance             14433 non-null  float64\n",
            " 16  opinion_h1n1_vacc_effective  26316 non-null  float64\n",
            " 17  opinion_h1n1_risk            26319 non-null  float64\n",
            " 18  opinion_h1n1_sick_from_vacc  26312 non-null  float64\n",
            " 19  opinion_seas_vacc_effective  26245 non-null  float64\n",
            " 20  opinion_seas_risk            26193 non-null  float64\n",
            " 21  opinion_seas_sick_from_vacc  26170 non-null  float64\n",
            " 22  age_group                    26707 non-null  object \n",
            " 23  education                    25300 non-null  object \n",
            " 24  race                         26707 non-null  object \n",
            " 25  sex                          26707 non-null  object \n",
            " 26  income_poverty               22284 non-null  object \n",
            " 27  marital_status               25299 non-null  object \n",
            " 28  rent_or_own                  24665 non-null  object \n",
            " 29  employment_status            25244 non-null  object \n",
            " 30  hhs_geo_region               26707 non-null  object \n",
            " 31  census_msa                   26707 non-null  object \n",
            " 32  household_adults             26458 non-null  float64\n",
            " 33  household_children           26458 non-null  float64\n",
            " 34  employment_industry          13377 non-null  object \n",
            " 35  employment_occupation        13237 non-null  object \n",
            "dtypes: float64(23), int64(1), object(12)\n",
            "memory usage: 7.3+ MB\n"
          ],
          "name": "stdout"
        }
      ]
    },
    {
      "cell_type": "markdown",
      "metadata": {
        "id": "0xp1Yj_kJ5eM"
      },
      "source": [
        "**2. Preprocessing, Imputing Missing Values and Dropping Unncessary Variables**"
      ]
    },
    {
      "cell_type": "code",
      "metadata": {
        "id": "6g8F8VoTivOs"
      },
      "source": [
        "#Dropping geo region and employment info\n",
        "\n",
        "X_train = X_train.drop(columns=['hhs_geo_region','employment_industry','employment_occupation'])"
      ],
      "execution_count": 38,
      "outputs": []
    },
    {
      "cell_type": "code",
      "metadata": {
        "id": "lioINFnb7zjB"
      },
      "source": [
        "#Default title text\n",
        "#Dropping rows with more than 4 missing values \n",
        "\n",
        "X_train = X_train.dropna(thresh=X_train.shape[1]-4,axis=0)\n",
        "X_train = X_train.reset_index(drop=True)"
      ],
      "execution_count": 39,
      "outputs": []
    },
    {
      "cell_type": "code",
      "metadata": {
        "id": "Di7v8gYXAB32"
      },
      "source": [
        "merged_train = X_train.merge(y_train, how='inner',on='respondent_id')\n",
        "\n",
        "X_train = merged_train.iloc[:,:-2]\n",
        "y_train = merged_train.iloc[:,-2:]"
      ],
      "execution_count": 40,
      "outputs": []
    },
    {
      "cell_type": "code",
      "metadata": {
        "id": "RRCHTagMK-8D"
      },
      "source": [
        "#Imputing missing values for numerical variables\n",
        "#Impute with median value \n",
        "import numpy as np\n",
        "\n",
        "X_train[['h1n1_concern','h1n1_knowledge','opinion_h1n1_vacc_effective','opinion_h1n1_risk','opinion_h1n1_sick_from_vacc','opinion_seas_vacc_effective',\n",
        "         'opinion_seas_risk','opinion_seas_sick_from_vacc','household_adults','household_children']]= X_train[['h1n1_concern','h1n1_knowledge','opinion_h1n1_vacc_effective','opinion_h1n1_risk',\n",
        "         'opinion_h1n1_sick_from_vacc','opinion_seas_vacc_effective','opinion_seas_risk','opinion_seas_sick_from_vacc','household_adults','household_children']].replace(np.nan,X_train[['h1n1_concern','h1n1_knowledge','opinion_h1n1_vacc_effective','opinion_h1n1_risk','opinion_h1n1_sick_from_vacc','opinion_seas_vacc_effective','opinion_seas_risk','opinion_seas_sick_from_vacc','household_adults','household_children']].median())\n",
        "X_test[['h1n1_concern','h1n1_knowledge','opinion_h1n1_vacc_effective','opinion_h1n1_risk','opinion_h1n1_sick_from_vacc','opinion_seas_vacc_effective','opinion_seas_risk','opinion_seas_sick_from_vacc','household_adults','household_children']]= X_test[['h1n1_concern','h1n1_knowledge','opinion_h1n1_vacc_effective','opinion_h1n1_risk','opinion_h1n1_sick_from_vacc','opinion_seas_vacc_effective','opinion_seas_risk','opinion_seas_sick_from_vacc','household_adults','household_children']].replace(np.nan,X_test[['h1n1_concern','h1n1_knowledge','opinion_h1n1_vacc_effective','opinion_h1n1_risk','opinion_h1n1_sick_from_vacc','opinion_seas_vacc_effective','opinion_seas_risk','opinion_seas_sick_from_vacc','household_adults','household_children']].median())"
      ],
      "execution_count": 41,
      "outputs": []
    },
    {
      "cell_type": "code",
      "metadata": {
        "id": "d9Q9Ox9dNMC6"
      },
      "source": [
        "#Impute binary variables with 0 with assumption that no response = 0 \n",
        "\n",
        "X_train[['behavioral_antiviral_meds','behavioral_avoidance','behavioral_face_mask','behavioral_wash_hands','behavioral_large_gatherings','behavioral_outside_home',\n",
        "         'behavioral_touch_face','doctor_recc_h1n1','doctor_recc_seasonal','chronic_med_condition','child_under_6_months','health_worker','health_insurance']]=X_train[['behavioral_antiviral_meds','behavioral_avoidance','behavioral_face_mask','behavioral_wash_hands','behavioral_large_gatherings','behavioral_outside_home',\n",
        "         'behavioral_touch_face','doctor_recc_h1n1','doctor_recc_seasonal','chronic_med_condition','child_under_6_months','health_worker','health_insurance']].replace(np.nan,0)\n",
        "X_test[['behavioral_antiviral_meds','behavioral_avoidance','behavioral_face_mask','behavioral_wash_hands','behavioral_large_gatherings','behavioral_outside_home',\n",
        "         'behavioral_touch_face','doctor_recc_h1n1','doctor_recc_seasonal','chronic_med_condition','child_under_6_months','health_worker','health_insurance']]=X_test[['behavioral_antiviral_meds','behavioral_avoidance','behavioral_face_mask','behavioral_wash_hands','behavioral_large_gatherings','behavioral_outside_home',\n",
        "         'behavioral_touch_face','doctor_recc_h1n1','doctor_recc_seasonal','chronic_med_condition','child_under_6_months','health_worker','health_insurance']].replace(np.nan,0)"
      ],
      "execution_count": 42,
      "outputs": []
    },
    {
      "cell_type": "code",
      "metadata": {
        "id": "3b7ndj0mg_LO"
      },
      "source": [
        "#Imputing categorical binary variables with OneHotEncoder\n",
        "#Place NaN as new variable\n",
        "\n",
        "from sklearn.preprocessing import OneHotEncoder\n",
        "onehot = OneHotEncoder(dtype=np.int,sparse=True)\n",
        "\n",
        "X_train['marital_status'] = X_train['marital_status'].replace(np.nan,'Other Marial Status')\n",
        "X_train['rent_or_own'] = X_train['rent_or_own'].replace(np.nan,'Other Home')\n",
        "X_train['census_msa'] = X_train['census_msa'].replace(np.nan,'Other MSA Status')\n",
        "\n",
        "\n",
        "bin_cat = pd.DataFrame(\n",
        "    onehot.fit_transform(X_train[['race','sex','marital_status','rent_or_own','census_msa']]).toarray(),\n",
        "    columns=['Black','Hispanic','Other or Multiple','White','Female','Male',\n",
        "             'Married','Not Married','Other Marital Status','Other Home','Own','Rent','MSA','Other MSA Census','Non-MSA'])\n",
        "\n",
        "X_train=X_train.drop(['race','sex','marital_status','rent_or_own','census_msa'],axis=1).join(bin_cat,how='outer')"
      ],
      "execution_count": 43,
      "outputs": []
    },
    {
      "cell_type": "code",
      "metadata": {
        "id": "atVci7J5OuKr"
      },
      "source": [
        "#Impute ordinal categorical values  \n",
        "#Place NaN as new values \n",
        "\n",
        "X_train['education'] = X_train['education'].fillna('Higher Education')\n",
        "X_train['income_poverty'] = X_train['income_poverty'].fillna('Below Poverty')\n",
        "X_train['employment_status'] = X_train['employment_status'].fillna('Not in Labor Force')\n",
        "\n",
        "\n",
        "cat_age = pd.Categorical(X_train.age_group,\n",
        "                     categories=['18 - 34 Years','35 - 44 Years','45 - 54 Years','55 - 64 Years','65+ Years'],\n",
        "                                 ordered=True)\n",
        "cat_edu = pd.Categorical(X_train.education,\n",
        "                         categories=['<12 Years','12 Years','Some College','College Graduate','Higher Education'],\n",
        "                         ordered=True)\n",
        "cat_inc = pd.Categorical(X_train.income_poverty,\n",
        "                         categories=['Below Poverty','<= $75,000, Above Poverty','> $75,000'],\n",
        "                         ordered=True)\n",
        "cat_emp = pd.Categorical(X_train.employment_status,\n",
        "                         categories=['Not in Labor Force','Unemployed','Employed'],\n",
        "                         ordered=True)\n",
        "\n",
        "age_labels, unique = pd.factorize(cat_age, sort=True)\n",
        "edu_labels, unique = pd.factorize(cat_edu, sort=True)\n",
        "inc_labels, unique = pd.factorize(cat_inc, sort=True)\n",
        "emp_labels, unique = pd.factorize(cat_emp, sort=True)\n",
        "\n",
        "X_train.age_group = age_labels\n",
        "X_train.education = edu_labels\n",
        "X_train.income_poverty = inc_labels\n",
        "X_train.employment_status = emp_labels\n"
      ],
      "execution_count": 44,
      "outputs": []
    },
    {
      "cell_type": "code",
      "metadata": {
        "id": "KReXMAYv3bTx"
      },
      "source": [
        "X_train = X_train.drop(columns=['respondent_id'])\n",
        "X_test = X_test.drop(columns=['respondent_id'])"
      ],
      "execution_count": 45,
      "outputs": []
    },
    {
      "cell_type": "markdown",
      "metadata": {
        "id": "PdDSRCtPXh9k"
      },
      "source": [
        "**4.Train & Fit Models**"
      ]
    },
    {
      "cell_type": "code",
      "metadata": {
        "id": "6IBRRSatXguO"
      },
      "source": [
        "#KNN Classifier \n",
        "from sklearn.neighbors import KNeighborsClassifier\n",
        "knn = KNeighborsClassifier()\n",
        "knn.fit(X_train,y_train)\n",
        "knn_acc = round(knn.score(X_train,y_train)*100,2)\n",
        "\n",
        "#Decision Tree\n",
        "from sklearn.tree import DecisionTreeClassifier\n",
        "tree = DecisionTreeClassifier(random_state=0)\n",
        "tree.fit(X_train,y_train)\n",
        "tree_acc = round(tree.score(X_train,y_train)*100,2)\n",
        "\n",
        "#Random Forest \n",
        "from sklearn.ensemble import RandomForestClassifier\n",
        "forest = RandomForestClassifier(n_estimators = 100)\n",
        "forest.fit(X_train,y_train)\n",
        "forest_acc = round(forest.score(X_train,y_train)*100,2)"
      ],
      "execution_count": 46,
      "outputs": []
    },
    {
      "cell_type": "markdown",
      "metadata": {
        "id": "UF3iE8DuRwVr"
      },
      "source": [
        "**4. Evaluation**"
      ]
    },
    {
      "cell_type": "code",
      "metadata": {
        "id": "fvh8MV24RzFy",
        "colab": {
          "base_uri": "https://localhost:8080/"
        },
        "outputId": "379efcf9-4be8-414f-9f62-40d09fdfd1b7"
      },
      "source": [
        "#Evaluate with Accuracy\n",
        "\n",
        "results = pd.DataFrame({\n",
        "    'Model': ['KNN Classifier','Decision Tree','Random Forest'],\n",
        "    'Score': [knn_acc,tree_acc,forest_acc]})\n",
        "result_df = results.sort_values(by='Score', ascending=False)\n",
        "result_df = result_df.set_index('Score')\n",
        "result_df.head"
      ],
      "execution_count": 47,
      "outputs": [
        {
          "output_type": "execute_result",
          "data": {
            "text/plain": [
              "<bound method NDFrame.head of                 Model\n",
              "Score                \n",
              "99.99   Decision Tree\n",
              "99.99   Random Forest\n",
              "71.72  KNN Classifier>"
            ]
          },
          "metadata": {
            "tags": []
          },
          "execution_count": 47
        }
      ]
    },
    {
      "cell_type": "markdown",
      "metadata": {
        "id": "H-SwkmidWyTR"
      },
      "source": [
        "Decision Tree and Random Forest perform best for both predictions, likely due to overfitting --> Examine further with cross validation"
      ]
    },
    {
      "cell_type": "code",
      "metadata": {
        "id": "bvVybFAFl4-l",
        "colab": {
          "base_uri": "https://localhost:8080/",
          "height": 173
        },
        "outputId": "95a6d02f-4164-45f6-924b-11e576ac8518"
      },
      "source": [
        "#Cross Validation\n",
        "\n",
        "from sklearn.model_selection import cross_val_score \n",
        "\n",
        "scores_knn = cross_val_score(knn,X_train,y_train,cv=10,scoring='accuracy')\n",
        "scores_tree = cross_val_score(tree,X_train,y_train,cv=10,scoring='accuracy')\n",
        "scores_forest = cross_val_score(forest,X_train,y_train,cv=10,scoring='accuracy')\n",
        "\n",
        "cross_val = pd.DataFrame({\n",
        "        'Model': ['KNN Classifier','Decision Tree','Random Forest'],\n",
        "        'Score': [scores_knn,scores_tree,scores_forest],\n",
        "        'Mean': [scores_knn.mean(),scores_tree.mean(),scores_forest.mean()],\n",
        "        'Standard Deviation': [scores_knn.std(),scores_tree.std(),scores_forest.std()]})\n",
        "\n",
        "cross_val_df = cross_val.sort_values(by='Mean',ascending=False)\n",
        "cross_val_df = cross_val_df.set_index('Mean')\n",
        "\n",
        "cross_val_df.head()"
      ],
      "execution_count": 48,
      "outputs": [
        {
          "output_type": "execute_result",
          "data": {
            "text/html": [
              "<div>\n",
              "<style scoped>\n",
              "    .dataframe tbody tr th:only-of-type {\n",
              "        vertical-align: middle;\n",
              "    }\n",
              "\n",
              "    .dataframe tbody tr th {\n",
              "        vertical-align: top;\n",
              "    }\n",
              "\n",
              "    .dataframe thead th {\n",
              "        text-align: right;\n",
              "    }\n",
              "</style>\n",
              "<table border=\"1\" class=\"dataframe\">\n",
              "  <thead>\n",
              "    <tr style=\"text-align: right;\">\n",
              "      <th></th>\n",
              "      <th>Model</th>\n",
              "      <th>Score</th>\n",
              "      <th>Standard Deviation</th>\n",
              "    </tr>\n",
              "    <tr>\n",
              "      <th>Mean</th>\n",
              "      <th></th>\n",
              "      <th></th>\n",
              "      <th></th>\n",
              "    </tr>\n",
              "  </thead>\n",
              "  <tbody>\n",
              "    <tr>\n",
              "      <th>0.677072</th>\n",
              "      <td>Random Forest</td>\n",
              "      <td>[0.670481452249408, 0.6748224151539068, 0.6696...</td>\n",
              "      <td>0.007000</td>\n",
              "    </tr>\n",
              "    <tr>\n",
              "      <th>0.618982</th>\n",
              "      <td>KNN Classifier</td>\n",
              "      <td>[0.6148382004735596, 0.6136543014996053, 0.616...</td>\n",
              "      <td>0.006068</td>\n",
              "    </tr>\n",
              "    <tr>\n",
              "      <th>0.552210</th>\n",
              "      <td>Decision Tree</td>\n",
              "      <td>[0.5473559589581689, 0.5303867403314917, 0.544...</td>\n",
              "      <td>0.011457</td>\n",
              "    </tr>\n",
              "  </tbody>\n",
              "</table>\n",
              "</div>"
            ],
            "text/plain": [
              "                   Model  ... Standard Deviation\n",
              "Mean                      ...                   \n",
              "0.677072   Random Forest  ...           0.007000\n",
              "0.618982  KNN Classifier  ...           0.006068\n",
              "0.552210   Decision Tree  ...           0.011457\n",
              "\n",
              "[3 rows x 3 columns]"
            ]
          },
          "metadata": {
            "tags": []
          },
          "execution_count": 48
        }
      ]
    },
    {
      "cell_type": "code",
      "metadata": {
        "id": "KS47U6EOW9aV",
        "colab": {
          "base_uri": "https://localhost:8080/"
        },
        "outputId": "3a627897-8338-4c30-9f42-d655bfcba990"
      },
      "source": [
        "#Understand which features are the most important (remove those that are not to improve performance)\n",
        "\n",
        "importances = pd.DataFrame({'feature':X_train.columns,'importance':np.round(forest.feature_importances_,3)})\n",
        "importances = importances.sort_values('importance',ascending=False).set_index('feature')\n",
        "importances.head"
      ],
      "execution_count": 49,
      "outputs": [
        {
          "output_type": "execute_result",
          "data": {
            "text/plain": [
              "<bound method NDFrame.head of                              importance\n",
              "feature                                \n",
              "opinion_seas_risk                 0.079\n",
              "opinion_seas_vacc_effective       0.067\n",
              "age_group                         0.055\n",
              "doctor_recc_seasonal              0.054\n",
              "opinion_h1n1_risk                 0.053\n",
              "doctor_recc_h1n1                  0.052\n",
              "opinion_h1n1_vacc_effective       0.046\n",
              "health_insurance                  0.036\n",
              "education                         0.036\n",
              "opinion_seas_sick_from_vacc       0.035\n",
              "opinion_h1n1_sick_from_vacc       0.035\n",
              "h1n1_concern                      0.034\n",
              "income_poverty                    0.028\n",
              "household_adults                  0.027\n",
              "h1n1_knowledge                    0.026\n",
              "household_children                0.024\n",
              "employment_status                 0.021\n",
              "chronic_med_condition             0.018\n",
              "health_worker                     0.018\n",
              "MSA                               0.017\n",
              "behavioral_touch_face             0.016\n",
              "behavioral_outside_home           0.016\n",
              "behavioral_large_gatherings       0.016\n",
              "behavioral_avoidance              0.016\n",
              "Non-MSA                           0.015\n",
              "Other MSA Census                  0.015\n",
              "Female                            0.014\n",
              "Male                              0.014\n",
              "Not Married                       0.013\n",
              "Married                           0.013\n",
              "White                             0.012\n",
              "behavioral_wash_hands             0.011\n",
              "Own                               0.011\n",
              "Rent                              0.010\n",
              "child_under_6_months              0.009\n",
              "behavioral_face_mask              0.008\n",
              "Black                             0.007\n",
              "Other or Multiple                 0.006\n",
              "Hispanic                          0.006\n",
              "behavioral_antiviral_meds         0.006\n",
              "Other Home                        0.004\n",
              "Other Marital Status              0.001>"
            ]
          },
          "metadata": {
            "tags": []
          },
          "execution_count": 49
        }
      ]
    },
    {
      "cell_type": "code",
      "metadata": {
        "id": "f9WZpO9K0jav"
      },
      "source": [
        "#Drop unimportant features and retrain the models \n",
        "\n",
        "X_train = X_train.filter(['opinion_seas_risk','opinion_seas_vacc_effective','age_group','opinion_h1n1_risk',\n",
        "                          'doctor_recc_seasonal','doctor_recc_h1n1','opinion_h1n1_vacc_effective'],\n",
        "                       axis=1)\n",
        "X_test = X_test.filter(['opinion_seas_risk','opinion_seas_vacc_effective','age_group','opinion_h1n1_risk',\n",
        "                          'doctor_recc_seasonal','doctor_recc_h1n1','opinion_h1n1_vacc_effective'],\n",
        "                       axis=1)\n",
        "\n",
        "#Transform relevant columns in X_test accordingly\n",
        "cat_age_test = pd.Categorical(X_test.age_group,\n",
        "                     categories=['18 - 34 Years','35 - 44 Years','45 - 54 Years','55 - 64 Years','65+ Years'],\n",
        "                                 ordered=True)\n",
        "age_labels_test, unique = pd.factorize(cat_age_test, sort=True)\n",
        "X_test.age_group = age_labels_test"
      ],
      "execution_count": 55,
      "outputs": []
    },
    {
      "cell_type": "code",
      "metadata": {
        "id": "tUB1ue1MCd_Z",
        "colab": {
          "base_uri": "https://localhost:8080/"
        },
        "outputId": "c28b3482-5d3a-4ed7-bd77-1989b5707b75"
      },
      "source": [
        "#KNN Classifier \n",
        "from sklearn.neighbors import KNeighborsClassifier\n",
        "knn = KNeighborsClassifier()\n",
        "knn.fit(X_train,y_train)\n",
        "knn_acc = round(knn.score(X_train,y_train)*100,2)\n",
        "\n",
        "#Decision Tree\n",
        "from sklearn.tree import DecisionTreeClassifier\n",
        "tree = DecisionTreeClassifier(random_state=0)\n",
        "tree.fit(X_train,y_train)\n",
        "tree_acc = round(tree.score(X_train,y_train)*100,2)\n",
        "\n",
        "#Random Forest \n",
        "from sklearn.ensemble import RandomForestClassifier\n",
        "forest = RandomForestClassifier(n_estimators = 100)\n",
        "forest.fit(X_train,y_train)\n",
        "forest_acc = round(forest.score(X_train,y_train)*100,2)\n",
        "\n",
        "#Evaluate with Accuracy\n",
        "\n",
        "results = pd.DataFrame({\n",
        "    'Model': ['KNN Classifier','Decision Tree','Random Forest'],\n",
        "    'Score': [knn_acc,tree_acc,forest_acc]})\n",
        "result_df = results.sort_values(by='Score', ascending=False)\n",
        "result_df = result_df.set_index('Score')\n",
        "result_df.head"
      ],
      "execution_count": 51,
      "outputs": [
        {
          "output_type": "execute_result",
          "data": {
            "text/plain": [
              "<bound method NDFrame.head of                 Model\n",
              "Score                \n",
              "70.30   Random Forest\n",
              "70.18   Decision Tree\n",
              "65.96  KNN Classifier>"
            ]
          },
          "metadata": {
            "tags": []
          },
          "execution_count": 51
        }
      ]
    },
    {
      "cell_type": "code",
      "metadata": {
        "id": "wwqackdgCjH9",
        "colab": {
          "base_uri": "https://localhost:8080/",
          "height": 173
        },
        "outputId": "243451ec-6b44-4cde-9ff4-02ad1dc0702a"
      },
      "source": [
        "#Cross Validation\n",
        "\n",
        "from sklearn.model_selection import cross_val_score \n",
        "\n",
        "scores_knn = cross_val_score(knn,X_train,y_train,cv=10,scoring='accuracy')\n",
        "scores_tree = cross_val_score(tree,X_train,y_train,cv=10,scoring='accuracy')\n",
        "scores_forest = cross_val_score(forest,X_train,y_train,cv=10,scoring='accuracy')\n",
        "\n",
        "cross_val = pd.DataFrame({\n",
        "        'Model': ['KNN Classifier','Decision Tree','Random Forest'],\n",
        "        'Score': [scores_knn,scores_tree,scores_forest],\n",
        "        'Mean': [scores_knn.mean(),scores_tree.mean(),scores_forest.mean()],\n",
        "        'Standard Deviation': [scores_knn.std(),scores_tree.std(),scores_forest.std()]})\n",
        "\n",
        "cross_val_df = cross_val.sort_values(by='Mean',ascending=False)\n",
        "cross_val_df = cross_val_df.set_index('Mean')\n",
        "\n",
        "cross_val_df.head()"
      ],
      "execution_count": 52,
      "outputs": [
        {
          "output_type": "execute_result",
          "data": {
            "text/html": [
              "<div>\n",
              "<style scoped>\n",
              "    .dataframe tbody tr th:only-of-type {\n",
              "        vertical-align: middle;\n",
              "    }\n",
              "\n",
              "    .dataframe tbody tr th {\n",
              "        vertical-align: top;\n",
              "    }\n",
              "\n",
              "    .dataframe thead th {\n",
              "        text-align: right;\n",
              "    }\n",
              "</style>\n",
              "<table border=\"1\" class=\"dataframe\">\n",
              "  <thead>\n",
              "    <tr style=\"text-align: right;\">\n",
              "      <th></th>\n",
              "      <th>Model</th>\n",
              "      <th>Score</th>\n",
              "      <th>Standard Deviation</th>\n",
              "    </tr>\n",
              "    <tr>\n",
              "      <th>Mean</th>\n",
              "      <th></th>\n",
              "      <th></th>\n",
              "      <th></th>\n",
              "    </tr>\n",
              "  </thead>\n",
              "  <tbody>\n",
              "    <tr>\n",
              "      <th>0.634688</th>\n",
              "      <td>Random Forest</td>\n",
              "      <td>[0.6132596685082873, 0.6306235201262825, 0.643...</td>\n",
              "      <td>0.011086</td>\n",
              "    </tr>\n",
              "    <tr>\n",
              "      <th>0.631018</th>\n",
              "      <td>Decision Tree</td>\n",
              "      <td>[0.6108918705603789, 0.6183898973954223, 0.634...</td>\n",
              "      <td>0.011347</td>\n",
              "    </tr>\n",
              "    <tr>\n",
              "      <th>0.617640</th>\n",
              "      <td>KNN Classifier</td>\n",
              "      <td>[0.6215469613259669, 0.6207576953433307, 0.627...</td>\n",
              "      <td>0.009958</td>\n",
              "    </tr>\n",
              "  </tbody>\n",
              "</table>\n",
              "</div>"
            ],
            "text/plain": [
              "                   Model  ... Standard Deviation\n",
              "Mean                      ...                   \n",
              "0.634688   Random Forest  ...           0.011086\n",
              "0.631018   Decision Tree  ...           0.011347\n",
              "0.617640  KNN Classifier  ...           0.009958\n",
              "\n",
              "[3 rows x 3 columns]"
            ]
          },
          "metadata": {
            "tags": []
          },
          "execution_count": 52
        }
      ]
    },
    {
      "cell_type": "code",
      "metadata": {
        "id": "WrLst6GLCnIm"
      },
      "source": [
        "#Hyperparameter tuning to improve random forest's performance\n",
        "\n",
        "from sklearn.model_selection import GridSearchCV\n",
        "\n",
        "param_grid = { \"criterion\" : [\"gini\", \"entropy\"],\n",
        "              \"min_samples_leaf\" : [1, 5, 10, 25, 50, 70],\n",
        "              \"min_samples_split\" : [2, 4, 10, 12, 16, 18, 25, 35],\n",
        "              \"n_estimators\": [100, 400, 700, 1000, 1500]}\n",
        "\n",
        "rf = RandomForestClassifier(n_estimators=100, max_features='auto', oob_score=True, random_state=1, n_jobs=-1)\n",
        "\n",
        "clf = GridSearchCV(estimator=rf, param_grid=param_grid, n_jobs=-1)\n",
        "clf.fit(X_train, y_train)\n",
        "\n",
        "clf.best_params_"
      ],
      "execution_count": null,
      "outputs": []
    },
    {
      "cell_type": "code",
      "metadata": {
        "id": "Yl5YRyqREVs4",
        "colab": {
          "base_uri": "https://localhost:8080/"
        },
        "outputId": "42614e01-408d-46d3-eb35-d90912a6f9a3"
      },
      "source": [
        "# Test hyperparameter\n",
        "random_forest = RandomForestClassifier(criterion = \"gini\", \n",
        "                                       min_samples_leaf = 25, \n",
        "                                       min_samples_split = 2,   \n",
        "                                       n_estimators=100, \n",
        "                                       max_features='auto', \n",
        "                                       oob_score=True, \n",
        "                                       random_state=0, \n",
        "                                       n_jobs=-1)\n",
        "\n",
        "random_forest.fit(X_train, y_train)\n",
        "y_prediction = random_forest.predict(X_test)\n",
        "\n",
        "random_forest.score(X_train, y_train)\n",
        "\n",
        "print(\"oob score:\", round(random_forest.oob_score_, 4)*100, \"%\")"
      ],
      "execution_count": 56,
      "outputs": [
        {
          "output_type": "stream",
          "text": [
            "oob score: 79.56 %\n"
          ],
          "name": "stdout"
        }
      ]
    },
    {
      "cell_type": "code",
      "metadata": {
        "colab": {
          "base_uri": "https://localhost:8080/"
        },
        "id": "3dqrjbdFOFxA",
        "outputId": "c57f2a9e-8143-49ac-cbc4-4d15ac6736d1"
      },
      "source": [
        "print(y_prediction)"
      ],
      "execution_count": 57,
      "outputs": [
        {
          "output_type": "stream",
          "text": [
            "[[0 0]\n",
            " [0 0]\n",
            " [1 1]\n",
            " ...\n",
            " [0 0]\n",
            " [0 0]\n",
            " [0 1]]\n"
          ],
          "name": "stdout"
        }
      ]
    },
    {
      "cell_type": "code",
      "metadata": {
        "id": "mx7XQz9vZPyH",
        "colab": {
          "base_uri": "https://localhost:8080/"
        },
        "outputId": "a9043c4b-b941-465b-de96-605402d61021"
      },
      "source": [
        "y_pred = random_forest.predict_proba(X_test)\n",
        "print(y_pred)"
      ],
      "execution_count": 58,
      "outputs": [
        {
          "output_type": "stream",
          "text": [
            "[array([[0.88784059, 0.11215941],\n",
            "       [0.95165074, 0.04834926],\n",
            "       [0.45083343, 0.54916657],\n",
            "       ...,\n",
            "       [0.88575735, 0.11424265],\n",
            "       [0.90852755, 0.09147245],\n",
            "       [0.5508245 , 0.4491755 ]]), array([[0.84735157, 0.15264843],\n",
            "       [0.92507111, 0.07492889],\n",
            "       [0.21823964, 0.78176036],\n",
            "       ...,\n",
            "       [0.77015074, 0.22984926],\n",
            "       [0.63501358, 0.36498642],\n",
            "       [0.34751439, 0.65248561]])]\n"
          ],
          "name": "stdout"
        }
      ]
    },
    {
      "cell_type": "code",
      "metadata": {
        "colab": {
          "base_uri": "https://localhost:8080/"
        },
        "id": "33gQOuYYzszQ",
        "outputId": "e7ab45fa-c303-4d67-9ee5-3f228aef6252"
      },
      "source": [
        "print(np.array(y_pred).shape)"
      ],
      "execution_count": 60,
      "outputs": [
        {
          "output_type": "stream",
          "text": [
            "(2, 26708, 2)\n"
          ],
          "name": "stdout"
        }
      ]
    },
    {
      "cell_type": "code",
      "metadata": {
        "colab": {
          "base_uri": "https://localhost:8080/"
        },
        "id": "0JFAvLTm0pZg",
        "outputId": "8cc44344-f5a6-42a4-aebb-96ed9213f57c"
      },
      "source": [
        "y_pred_2d = np.array(y_pred).transpose(2,0,1).reshape(-1,np.array(y_pred).shape[1])\n",
        "\n",
        "print(y_pred_2d)"
      ],
      "execution_count": 61,
      "outputs": [
        {
          "output_type": "stream",
          "text": [
            "[[0.88784059 0.95165074 0.45083343 ... 0.88575735 0.90852755 0.5508245 ]\n",
            " [0.84735157 0.92507111 0.21823964 ... 0.77015074 0.63501358 0.34751439]\n",
            " [0.11215941 0.04834926 0.54916657 ... 0.11424265 0.09147245 0.4491755 ]\n",
            " [0.15264843 0.07492889 0.78176036 ... 0.22984926 0.36498642 0.65248561]]\n"
          ],
          "name": "stdout"
        }
      ]
    },
    {
      "cell_type": "code",
      "metadata": {
        "id": "kQL5nztE1SBX"
      },
      "source": [
        "y_pred_2d = y_pred_2d.T"
      ],
      "execution_count": 62,
      "outputs": []
    },
    {
      "cell_type": "code",
      "metadata": {
        "colab": {
          "base_uri": "https://localhost:8080/"
        },
        "id": "4mEH-Mc919y5",
        "outputId": "0058eced-d4a0-4ca7-d3b7-63636055e118"
      },
      "source": [
        "print(y_pred_2d.shape)"
      ],
      "execution_count": 63,
      "outputs": [
        {
          "output_type": "stream",
          "text": [
            "(26708, 4)\n"
          ],
          "name": "stdout"
        }
      ]
    },
    {
      "cell_type": "code",
      "metadata": {
        "id": "8wCd8biZvPO3"
      },
      "source": [
        "np.savetxt(\"pred.csv\",  \n",
        "           y_prediction, \n",
        "           delimiter =\", \",  \n",
        "           fmt ='% s') \n",
        "\n",
        "np.savetxt(\"pred_proba.csv\",  \n",
        "           y_pred_2d, \n",
        "           delimiter =\", \",  \n",
        "           fmt ='% s') "
      ],
      "execution_count": 64,
      "outputs": []
    }
  ]
}